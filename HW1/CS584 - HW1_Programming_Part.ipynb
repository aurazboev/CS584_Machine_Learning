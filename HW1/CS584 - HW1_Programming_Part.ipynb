{
 "cells": [
  {
   "cell_type": "code",
   "execution_count": 1,
   "id": "3c9f3c97",
   "metadata": {},
   "outputs": [],
   "source": [
    "import pandas as pd\n",
    "import numpy as np\n",
    "from sklearn.linear_model import LinearRegression, Ridge, Lasso\n",
    "from sklearn.metrics import mean_squared_error, r2_score\n",
    "from scipy.stats import pearsonr"
   ]
  },
  {
   "cell_type": "code",
   "execution_count": 2,
   "id": "d5040e3d",
   "metadata": {},
   "outputs": [],
   "source": [
    "file = \"automobile/imports-85.data\"\n",
    "\n",
    "column_names = [\n",
    "    \"symboling\", \"normalized-losses\", \"make\", \"fuel-type\", \"aspiration\",\n",
    "    \"num-of-doors\", \"body-style\", \"drive-wheels\", \"engine-location\", \"wheel-base\", \n",
    "    \"length\", \"width\", \"height\", \"curb-weight\", \"engine-type\", \n",
    "    \"num-of-cylinders\", \"engine-size\", \"fuel-system\", \"bore\", \"stroke\", \n",
    "    \"compression-ratio\", \"horsepower\", \"peak-rpm\", \"city-mpg\", \"highway-mpg\", \"price\"\n",
    "]\n",
    "\n",
    "df = pd.read_csv(file, names=column_names, na_values=\"?\", sep=\",\")"
   ]
  },
  {
   "cell_type": "code",
   "execution_count": 3,
   "id": "51e7ab51",
   "metadata": {},
   "outputs": [
    {
     "name": "stdout",
     "output_type": "stream",
     "text": [
      "     wheel-base  compression-ratio  engine-size  length  width\n",
      "0          88.6                9.0          130   168.8   64.1\n",
      "1          88.6                9.0          130   168.8   64.1\n",
      "2          94.5                9.0          152   171.2   65.5\n",
      "3          99.8               10.0          109   176.6   66.2\n",
      "4          99.4                8.0          136   176.6   66.4\n",
      "..          ...                ...          ...     ...    ...\n",
      "200       109.1                9.5          141   188.8   68.9\n",
      "201       109.1                8.7          141   188.8   68.8\n",
      "202       109.1                8.8          173   188.8   68.9\n",
      "203       109.1               23.0          145   188.8   68.9\n",
      "204       109.1                9.5          141   188.8   68.9\n",
      "\n",
      "[205 rows x 5 columns]\n",
      "0      21\n",
      "1      21\n",
      "2      19\n",
      "3      24\n",
      "4      18\n",
      "       ..\n",
      "200    23\n",
      "201    19\n",
      "202    18\n",
      "203    26\n",
      "204    19\n",
      "Name: city-mpg, Length: 205, dtype: int64\n"
     ]
    }
   ],
   "source": [
    "features = [\"wheel-base\", \"compression-ratio\", \"engine-size\", \"length\", \"width\"]\n",
    "target = \"city-mpg\"\n",
    "\n",
    "data = df[features + [target]]\n",
    "data = data.dropna()\n",
    "print(data[features])\n",
    "print(data[target])"
   ]
  },
  {
   "cell_type": "code",
   "execution_count": 4,
   "id": "43502d9d",
   "metadata": {},
   "outputs": [],
   "source": [
    "train_part = int(0.6 * len(data))\n",
    "val_part = int(0.8 * len(data))\n",
    "\n",
    "train_data = data[:train_part]\n",
    "val_data = data[train_part:val_part]\n",
    "test_data = data[val_part:]\n",
    "\n",
    "x_train = train_data[features]\n",
    "x_val = val_data[features]\n",
    "x_test = test_data[features]\n",
    "\n",
    "y_train = train_data[target]\n",
    "y_val = val_data[target]\n",
    "y_test = test_data[target]\n"
   ]
  },
  {
   "cell_type": "code",
   "execution_count": 5,
   "id": "b83909a2",
   "metadata": {},
   "outputs": [],
   "source": [
    "# Linear\n",
    "linear_model = LinearRegression()\n",
    "linear_model.fit(x_train, y_train)\n",
    "\n",
    "# Ridge\n",
    "ridge_model = Ridge()\n",
    "ridge_model.fit(x_train, y_train)\n",
    "\n",
    "# Lasso\n",
    "lasso_model = Lasso()\n",
    "lasso_model.fit(x_train, y_train)\n",
    "\n",
    "def evaluate_model(model, x, y):\n",
    "    predictions = model.predict(x)\n",
    "    \n",
    "    mse = mean_squared_error(y, predictions)\n",
    "    r2 = r2_score(y, predictions)\n",
    "    pcc, _ = pearsonr(y, predictions)\n",
    "    \n",
    "    return mse, r2, pcc\n"
   ]
  },
  {
   "cell_type": "code",
   "execution_count": 6,
   "id": "0c444276",
   "metadata": {},
   "outputs": [
    {
     "name": "stdout",
     "output_type": "stream",
     "text": [
      "Linear Model Metrics:\n",
      "Validation -> MSE:  10.786733256258685  R2:  0.6575672570673279  PCC:  0.8137650755178988\n",
      "Test -> MSE:  6.427188600353539  R2:  0.738867307072212  PCC:  0.8781180406480414\n",
      "\n",
      "Ridge Model Metrics:\n",
      "Validation -> MSE:  10.783145476534955  R2:  0.657681153760854  PCC:  0.8137715058592373\n",
      "Test -> MSE:  6.42508341977005  R2:  0.7389528392557294  PCC:  0.8781658099560556\n",
      "\n",
      "Lasso Model Metrics:\n",
      "Validation -> MSE:  11.321814574312052  R2:  0.6405807089549298  PCC:  0.8022903093258729\n",
      "Test -> MSE:  6.067300012625358  R2:  0.7534893575379894  PCC:  0.8855888965279801\n"
     ]
    }
   ],
   "source": [
    "linear_mse_val, linear_r2_val, linear_pcc_val = evaluate_model(linear_model, x_val, y_val)\n",
    "ridge_mse_val, ridge_r2_val, ridge_pcc_val = evaluate_model(ridge_model, x_val, y_val)\n",
    "lasso_mse_val, lasso_r2_val, lasso_pcc_val = evaluate_model(lasso_model, x_val, y_val)\n",
    "\n",
    "linear_mse_test, linear_r2_test, linear_pcc_test = evaluate_model(linear_model, x_test, y_test)\n",
    "ridge_mse_test, ridge_r2_test, ridge_pcc_test = evaluate_model(ridge_model, x_test, y_test)\n",
    "lasso_mse_test, lasso_r2_test, lasso_pcc_test = evaluate_model(lasso_model, x_test, y_test)\n",
    "\n",
    "# Display Results\n",
    "print(\"Linear Model Metrics:\")\n",
    "print(\"Validation -> MSE: \", linear_mse_val, \" R2: \", linear_r2_val, \" PCC: \", linear_pcc_val)\n",
    "print(\"Test -> MSE: \", linear_mse_test, \" R2: \", linear_r2_test, \" PCC: \", linear_pcc_test)\n",
    "print()\n",
    "print(\"Ridge Model Metrics:\")\n",
    "print(\"Validation -> MSE: \", ridge_mse_val, \" R2: \", ridge_r2_val, \" PCC: \", ridge_pcc_val)\n",
    "print(\"Test -> MSE: \", ridge_mse_test, \" R2: \", ridge_r2_test, \" PCC: \", ridge_pcc_test)\n",
    "print()\n",
    "print(\"Lasso Model Metrics:\")\n",
    "print(\"Validation -> MSE: \", lasso_mse_val, \" R2: \", lasso_r2_val, \" PCC: \", lasso_pcc_val)\n",
    "print(\"Test -> MSE: \", lasso_mse_test, \" R2: \", lasso_r2_test, \" PCC: \", lasso_pcc_test)\n"
   ]
  },
  {
   "cell_type": "code",
   "execution_count": 7,
   "id": "2b8b8f59",
   "metadata": {},
   "outputs": [
    {
     "name": "stdout",
     "output_type": "stream",
     "text": [
      "Ridge Model\n",
      "Validation with alpha   0.0 -> MSE:  10.786733256258652\n",
      "Validation with alpha   0.25 -> MSE:  10.78582565089782\n",
      "Validation with alpha   0.5 -> MSE:  10.78492519563879\n",
      "Validation with alpha   1.0 -> MSE:  10.783145476534955\n",
      "Validation with alpha   1000.0 -> MSE:  10.793083377756865\n",
      "\n",
      "Lasso Model\n",
      "Validation with alpha   0.0  -> MSE:  10.786733256258678\n",
      "Validation with alpha   0.25  -> MSE:  10.717383983194823\n",
      "Validation with alpha   0.5  -> MSE:  10.783613886978287\n",
      "Validation with alpha   1.0  -> MSE:  11.321814574312052\n",
      "Validation with alpha   1000.0  -> MSE:  31.685967347478353\n"
     ]
    },
    {
     "name": "stderr",
     "output_type": "stream",
     "text": [
      "/var/folders/2b/trn02ykj2n57tn_d5hf2f9zr0000gn/T/ipykernel_65867/567195924.py:14: UserWarning: With alpha=0, this algorithm does not converge well. You are advised to use the LinearRegression estimator\n",
      "  lasso.fit(x_train, y_train)\n",
      "/Users/abdurakhmonurazboev/opt/anaconda3/lib/python3.9/site-packages/sklearn/linear_model/_coordinate_descent.py:647: UserWarning: Coordinate descent with no regularization may lead to unexpected results and is discouraged.\n",
      "  model = cd_fast.enet_coordinate_descent(\n",
      "/Users/abdurakhmonurazboev/opt/anaconda3/lib/python3.9/site-packages/sklearn/linear_model/_coordinate_descent.py:647: ConvergenceWarning: Objective did not converge. You might want to increase the number of iterations, check the scale of the features or consider increasing regularisation. Duality gap: 8.875e+02, tolerance: 6.418e-01 Linear regression models with null weight for the l1 regularization term are more efficiently fitted using one of the solvers implemented in sklearn.linear_model.Ridge/RidgeCV instead.\n",
      "  model = cd_fast.enet_coordinate_descent(\n",
      "/Users/abdurakhmonurazboev/opt/anaconda3/lib/python3.9/site-packages/scipy/stats/_stats_py.py:4424: ConstantInputWarning: An input array is constant; the correlation coefficient is not defined.\n",
      "  warnings.warn(stats.ConstantInputWarning(msg))\n"
     ]
    }
   ],
   "source": [
    "alphas = [0., 0.25, 0.5, 1., 1000.]\n",
    "\n",
    "print(\"Ridge Model\")\n",
    "for alpha in alphas:\n",
    "    ridge = Ridge(alpha=alpha)\n",
    "    ridge.fit(x_train, y_train)\n",
    "    ridge_mse_val, _, _ = evaluate_model(ridge, x_val, y_val)\n",
    "    print(\"Validation with alpha  \", alpha, \"-> MSE: \", ridge_mse_val)\n",
    "\n",
    "print()\n",
    "print(\"Lasso Model\")\n",
    "for alpha in alphas:    \n",
    "    lasso = Lasso(alpha=alpha, max_iter=10000)\n",
    "    lasso.fit(x_train, y_train)\n",
    "    lasso_mse_val, _, _ = evaluate_model(lasso, x_val, y_val)\n",
    "    print(\"Validation with alpha  \", alpha, \" -> MSE: \", lasso_mse_val)\n"
   ]
  },
  {
   "cell_type": "code",
   "execution_count": 8,
   "id": "0100283b",
   "metadata": {},
   "outputs": [
    {
     "name": "stdout",
     "output_type": "stream",
     "text": [
      "Ridge Model with best Alpha -> Test MSE:  6.42508341977005  R2:  0.7389528392557294  PCC:  0.8781658099560556\n",
      "Lasso Model with best Alpha -> Test MSE:  6.30405180129232  R2:  0.7438702789681348  PCC:  0.8804354381564511\n"
     ]
    }
   ],
   "source": [
    "best_alpha_ridge = Ridge(alpha=1.0)\n",
    "best_alpha_lasso = Lasso(alpha=0.25, max_iter=10000)\n",
    "\n",
    "best_alpha_ridge.fit(x_train, y_train)\n",
    "best_alpha_lasso.fit(x_train, y_train)\n",
    "\n",
    "ridge_mse_test, ridge_r2_test, ridge_pcc_test = evaluate_model(best_alpha_ridge, x_test, y_test)\n",
    "lasso_mse_test, lasso_r2_test, lasso_pcc_test = evaluate_model(best_alpha_lasso, x_test, y_test)\n",
    "\n",
    "print(\"Ridge Model with best Alpha -> Test MSE: \", ridge_mse_test, \" R2: \", ridge_r2_test, \" PCC: \", ridge_pcc_test)\n",
    "print(\"Lasso Model with best Alpha -> Test MSE: \", lasso_mse_test, \" R2: \", lasso_r2_test, \" PCC: \", lasso_pcc_test)\n"
   ]
  },
  {
   "cell_type": "code",
   "execution_count": 9,
   "id": "db81b541",
   "metadata": {},
   "outputs": [],
   "source": [
    "from sklearn.preprocessing import PolynomialFeatures\n",
    "\n",
    "poly = PolynomialFeatures(degree=5)\n",
    "\n",
    "x_poly = poly.fit_transform(data[features])\n",
    "x_poly_frame = pd.DataFrame(x_poly, columns=poly.get_feature_names_out(features))\n",
    "\n",
    "x_train_poly = x_poly_frame[:train_part]\n",
    "x_val_poly = x_poly_frame[train_part:val_part]\n",
    "x_test_poly = x_poly_frame[val_part:]\n"
   ]
  },
  {
   "cell_type": "code",
   "execution_count": 10,
   "id": "a6d1a201",
   "metadata": {},
   "outputs": [
    {
     "name": "stdout",
     "output_type": "stream",
     "text": [
      "Ridge Model\n",
      "Ridge MSE for Alpha  0.0 is ->  5473.913251874896\n",
      "Ridge MSE for Alpha  0.25 is ->  5473.913251874896\n",
      "Ridge MSE for Alpha  0.5 is ->  5473.913251874896\n",
      "Ridge MSE for Alpha  1.0 is ->  5473.913251874896\n",
      "Ridge MSE for Alpha  1000.0 is ->  5473.913251874896\n",
      "\n",
      "Lasso Model\n"
     ]
    },
    {
     "name": "stderr",
     "output_type": "stream",
     "text": [
      "/Users/abdurakhmonurazboev/opt/anaconda3/lib/python3.9/site-packages/sklearn/linear_model/_ridge.py:196: UserWarning: Singular matrix in solving dual problem. Using least-squares solution instead.\n",
      "  warnings.warn(\n",
      "/Users/abdurakhmonurazboev/opt/anaconda3/lib/python3.9/site-packages/sklearn/linear_model/_ridge.py:196: UserWarning: Singular matrix in solving dual problem. Using least-squares solution instead.\n",
      "  warnings.warn(\n",
      "/Users/abdurakhmonurazboev/opt/anaconda3/lib/python3.9/site-packages/sklearn/linear_model/_ridge.py:196: UserWarning: Singular matrix in solving dual problem. Using least-squares solution instead.\n",
      "  warnings.warn(\n",
      "/Users/abdurakhmonurazboev/opt/anaconda3/lib/python3.9/site-packages/sklearn/linear_model/_ridge.py:196: UserWarning: Singular matrix in solving dual problem. Using least-squares solution instead.\n",
      "  warnings.warn(\n",
      "/Users/abdurakhmonurazboev/opt/anaconda3/lib/python3.9/site-packages/sklearn/linear_model/_ridge.py:196: UserWarning: Singular matrix in solving dual problem. Using least-squares solution instead.\n",
      "  warnings.warn(\n",
      "/var/folders/2b/trn02ykj2n57tn_d5hf2f9zr0000gn/T/ipykernel_65867/1948310399.py:14: UserWarning: With alpha=0, this algorithm does not converge well. You are advised to use the LinearRegression estimator\n",
      "  lasso.fit(x_train_poly, y_train)\n",
      "/Users/abdurakhmonurazboev/opt/anaconda3/lib/python3.9/site-packages/sklearn/linear_model/_coordinate_descent.py:647: UserWarning: Coordinate descent with no regularization may lead to unexpected results and is discouraged.\n",
      "  model = cd_fast.enet_coordinate_descent(\n",
      "/Users/abdurakhmonurazboev/opt/anaconda3/lib/python3.9/site-packages/sklearn/linear_model/_coordinate_descent.py:647: ConvergenceWarning: Objective did not converge. You might want to increase the number of iterations, check the scale of the features or consider increasing regularisation. Duality gap: 3.007e+02, tolerance: 6.418e-01 Linear regression models with null weight for the l1 regularization term are more efficiently fitted using one of the solvers implemented in sklearn.linear_model.Ridge/RidgeCV instead.\n",
      "  model = cd_fast.enet_coordinate_descent(\n"
     ]
    },
    {
     "name": "stdout",
     "output_type": "stream",
     "text": [
      "Lasso MSE for Alpha  0.0 is ->  14.146638175985025\n"
     ]
    },
    {
     "name": "stderr",
     "output_type": "stream",
     "text": [
      "/Users/abdurakhmonurazboev/opt/anaconda3/lib/python3.9/site-packages/sklearn/linear_model/_coordinate_descent.py:647: ConvergenceWarning: Objective did not converge. You might want to increase the number of iterations, check the scale of the features or consider increasing regularisation. Duality gap: 3.138e+02, tolerance: 6.418e-01\n",
      "  model = cd_fast.enet_coordinate_descent(\n"
     ]
    },
    {
     "name": "stdout",
     "output_type": "stream",
     "text": [
      "Lasso MSE for Alpha  0.25 is ->  11.794645672717435\n"
     ]
    },
    {
     "name": "stderr",
     "output_type": "stream",
     "text": [
      "/Users/abdurakhmonurazboev/opt/anaconda3/lib/python3.9/site-packages/sklearn/linear_model/_coordinate_descent.py:647: ConvergenceWarning: Objective did not converge. You might want to increase the number of iterations, check the scale of the features or consider increasing regularisation. Duality gap: 3.174e+02, tolerance: 6.418e-01\n",
      "  model = cd_fast.enet_coordinate_descent(\n"
     ]
    },
    {
     "name": "stdout",
     "output_type": "stream",
     "text": [
      "Lasso MSE for Alpha  0.5 is ->  11.667939885151082\n"
     ]
    },
    {
     "name": "stderr",
     "output_type": "stream",
     "text": [
      "/Users/abdurakhmonurazboev/opt/anaconda3/lib/python3.9/site-packages/sklearn/linear_model/_coordinate_descent.py:647: ConvergenceWarning: Objective did not converge. You might want to increase the number of iterations, check the scale of the features or consider increasing regularisation. Duality gap: 3.198e+02, tolerance: 6.418e-01\n",
      "  model = cd_fast.enet_coordinate_descent(\n"
     ]
    },
    {
     "name": "stdout",
     "output_type": "stream",
     "text": [
      "Lasso MSE for Alpha  1.0 is ->  11.537829841567731\n",
      "Lasso MSE for Alpha  1000.0 is ->  9.251022839244406\n"
     ]
    },
    {
     "name": "stderr",
     "output_type": "stream",
     "text": [
      "/Users/abdurakhmonurazboev/opt/anaconda3/lib/python3.9/site-packages/sklearn/linear_model/_coordinate_descent.py:647: ConvergenceWarning: Objective did not converge. You might want to increase the number of iterations, check the scale of the features or consider increasing regularisation. Duality gap: 3.774e+02, tolerance: 6.418e-01\n",
      "  model = cd_fast.enet_coordinate_descent(\n"
     ]
    }
   ],
   "source": [
    "alphas = [0., 0.25, 0.5, 1., 1000.]\n",
    "\n",
    "print(\"Ridge Model\")\n",
    "for alpha in alphas:\n",
    "    ridge = Ridge(alpha=alpha)\n",
    "    ridge.fit(x_train_poly, y_train)\n",
    "    ridge_mse_val, _, _ = evaluate_model(ridge, x_val_poly, y_val)\n",
    "    print(\"Ridge MSE for Alpha \", alpha, \"is -> \", ridge_mse_val)\n",
    "\n",
    "print()\n",
    "print(\"Lasso Model\")\n",
    "for alpha in alphas:    \n",
    "    lasso = Lasso(alpha=alpha, max_iter=10000)\n",
    "    lasso.fit(x_train_poly, y_train)\n",
    "    lasso_mse_val, _, _ = evaluate_model(lasso, x_val_poly, y_val)\n",
    "    print(\"Lasso MSE for Alpha \", alpha, \"is -> \", lasso_mse_val)"
   ]
  },
  {
   "cell_type": "code",
   "execution_count": 11,
   "id": "fc070735",
   "metadata": {},
   "outputs": [
    {
     "name": "stderr",
     "output_type": "stream",
     "text": [
      "/Users/abdurakhmonurazboev/opt/anaconda3/lib/python3.9/site-packages/sklearn/linear_model/_ridge.py:196: UserWarning: Singular matrix in solving dual problem. Using least-squares solution instead.\n",
      "  warnings.warn(\n"
     ]
    },
    {
     "name": "stdout",
     "output_type": "stream",
     "text": [
      "Ridge Model with best Alpha -> Test MSE:  4885.2576503763285  R2:  -197.48499323929542  PCC:  -0.5203894576354618\n",
      "Lasso Model with best Alpha -> Test MSE:  12.201479269991854  R2:  0.5042614527757455  PCC:  0.8612871959035014\n"
     ]
    },
    {
     "name": "stderr",
     "output_type": "stream",
     "text": [
      "/Users/abdurakhmonurazboev/opt/anaconda3/lib/python3.9/site-packages/sklearn/linear_model/_coordinate_descent.py:647: ConvergenceWarning: Objective did not converge. You might want to increase the number of iterations, check the scale of the features or consider increasing regularisation. Duality gap: 3.774e+02, tolerance: 6.418e-01\n",
      "  model = cd_fast.enet_coordinate_descent(\n"
     ]
    }
   ],
   "source": [
    "best_alpha_ridge = Ridge(alpha=1.0)\n",
    "best_alpha_lasso = Lasso(alpha=1000.0, max_iter=10000)\n",
    "\n",
    "best_alpha_ridge.fit(x_train_poly, y_train)\n",
    "best_alpha_lasso.fit(x_train_poly, y_train)\n",
    "\n",
    "ridge_mse_test, ridge_r2_test, ridge_pcc_test = evaluate_model(best_alpha_ridge, x_test_poly, y_test)\n",
    "lasso_mse_test, lasso_r2_test, lasso_pcc_test = evaluate_model(best_alpha_lasso, x_test_poly, y_test)\n",
    "\n",
    "print(\"Ridge Model with best Alpha -> Test MSE: \", ridge_mse_test, \" R2: \", ridge_r2_test, \" PCC: \", ridge_pcc_test)\n",
    "print(\"Lasso Model with best Alpha -> Test MSE: \", lasso_mse_test, \" R2: \", lasso_r2_test, \" PCC: \", lasso_pcc_test)\n"
   ]
  },
  {
   "cell_type": "code",
   "execution_count": 12,
   "id": "9aee1512",
   "metadata": {},
   "outputs": [
    {
     "name": "stdout",
     "output_type": "stream",
     "text": [
      "[ 0.00000000e+00  6.00477169e-13 -1.41799841e-12 -2.19263685e-11\n",
      " -5.98397017e-12  2.69913316e-12  1.52133670e-10 -1.14183453e-10\n",
      " -1.19992432e-09 -1.88860100e-10  2.69046824e-10 -1.16030596e-11\n",
      " -2.75987711e-10 -2.38034378e-10 -4.61380286e-11 -2.46944256e-09\n",
      " -2.35705190e-09 -6.80099104e-10 -1.06988414e-09  1.72356799e-10\n",
      "  2.90248498e-10  2.09680659e-08 -7.48103091e-09 -4.50601976e-08\n",
      "  1.10654871e-08  2.50977478e-08 -8.19791114e-10 -1.59494251e-08\n",
      " -1.52090152e-08 -3.29256122e-09 -1.00841059e-07 -9.06137672e-08\n",
      " -2.30211612e-08 -2.16075569e-08  2.74197691e-08  2.39420039e-08\n",
      " -3.58820462e-10 -1.16342230e-09 -1.51817032e-09 -9.35739423e-11\n",
      " -2.05424698e-08 -2.83498130e-08 -9.43031076e-09 -2.98665127e-08\n",
      " -7.01044869e-09 -6.35179385e-10 -1.30048949e-07 -1.60671340e-07\n",
      " -6.42528459e-08 -1.71719730e-07 -4.71782263e-08 -9.92458493e-09\n",
      " -1.00626015e-07  2.13468269e-08  3.09971983e-08  2.06598689e-08\n",
      "  1.75571860e-06 -3.28411398e-07 -2.65473446e-07  2.01989193e-06\n",
      "  1.72588753e-06 -4.23618308e-08 -6.24828853e-07 -6.70670344e-07\n",
      " -1.61591805e-07 -1.45596380e-06 -7.69883706e-07  1.47219619e-07\n",
      "  1.88261517e-06  2.37692019e-06  1.51740655e-06 -2.60381990e-08\n",
      " -3.73037103e-08 -7.47287423e-08  1.24527829e-09 -6.88365572e-07\n",
      " -1.11084592e-06 -4.02160630e-07 -1.31067109e-06 -3.24074205e-07\n",
      " -3.27549439e-08 -1.04994092e-06 -1.50779203e-06 -9.64186891e-07\n",
      " -1.54699104e-06  9.15233610e-08  3.35713892e-07  8.85830061e-07\n",
      "  3.11892372e-06  2.23712574e-06  1.23887208e-06 -1.49646822e-08\n",
      "  2.77797361e-09 -3.97267839e-08 -1.19263639e-08  1.19681970e-08\n",
      " -6.72229573e-08  3.29086919e-09 -1.22065028e-07  5.28502778e-09\n",
      "  2.78565505e-08 -3.75683495e-07 -1.04961265e-06 -4.46927825e-07\n",
      " -1.88590237e-06 -6.71550832e-07 -2.07871889e-07 -2.45648877e-06\n",
      " -6.20645740e-07 -7.47736442e-08  5.51257331e-08  2.27904761e-06\n",
      "  1.66168023e-06 -9.87772417e-07 -9.81012610e-08 -8.43680982e-07\n",
      " -5.08910632e-07 -2.26603088e-06  1.20723508e-07  5.07032876e-07\n",
      "  4.18689502e-07 -1.73138258e-06  3.91361664e-06  3.21881948e-06\n",
      "  1.87951158e-06  9.66798923e-07  1.39842107e-06  3.34237785e-06\n",
      " -2.79304030e-06  1.87083220e-06 -3.28690409e-06 -1.05856018e-06\n",
      "  3.22432944e-06  2.57601026e-06 -1.90248125e-06  1.06508382e-07\n",
      "  4.76024660e-07  1.77694351e-07 -3.63898221e-07 -1.12348135e-06\n",
      " -8.44166547e-07 -1.91694001e-06  3.23746728e-07 -1.77664696e-06\n",
      "  1.01814309e-06  4.33700237e-06  5.70709377e-07 -4.25746596e-06\n",
      "  3.40568149e-07 -2.72183714e-06 -6.89058737e-07  7.07178530e-07\n",
      "  8.99763146e-07  4.36364679e-07  1.25354994e-06  1.22588343e-06\n",
      "  1.17994584e-06 -2.26183855e-06 -2.96353933e-07  2.13625317e-06\n",
      " -1.70736348e-07 -1.15443316e-06  5.62710458e-07 -2.86360028e-06\n",
      " -8.54652993e-07  1.38179645e-06 -9.25102943e-07  2.08030019e-06\n",
      " -2.13224588e-06  2.30823450e-06  2.43944607e-06 -1.16224647e-06\n",
      "  7.50342657e-07 -2.10257561e-06 -2.36613884e-06 -6.33836481e-06\n",
      " -3.14229625e-06 -2.22893541e-06 -2.94305200e-06  5.78121586e-07\n",
      "  2.21800897e-06 -3.33707742e-07  3.48791425e-07  4.62972510e-07\n",
      " -2.18278701e-06 -1.93425259e-06 -1.99692647e-06  4.65768583e-07\n",
      " -6.19588137e-07  1.15188006e-06  1.56059982e-06  1.36591013e-06\n",
      " -9.59451272e-08  3.22637727e-06  8.20790420e-07 -1.27081126e-06\n",
      " -4.46406199e-07 -5.64862707e-08 -1.77587894e-06 -7.31688787e-07\n",
      "  3.30347044e-06  1.00223802e-06  8.64891888e-07 -3.90485205e-06\n",
      " -1.08537413e-06 -1.98604929e-07 -4.23370048e-07 -1.98139925e-06\n",
      "  3.77146504e-06 -2.53821302e-06  3.56009960e-06  3.34869387e-06\n",
      " -3.05780721e-07  5.52260908e-06  4.86333891e-06  3.25518572e-06\n",
      "  1.13152444e-06 -5.30800944e-06  4.88960715e-06  3.62478423e-06\n",
      "  4.49393942e-07  7.75087596e-07  2.11958391e-06 -5.09984673e-06\n",
      " -1.96025916e-06  7.99309102e-07  4.55869072e-07  7.68673475e-07\n",
      "  4.52991189e-06  5.68144367e-06  4.94744325e-06 -1.61516653e-08\n",
      "  2.65172992e-07 -2.14222207e-07 -9.69274292e-07  3.11572576e-06\n",
      " -4.34898168e-06  7.86561185e-07  1.13845003e-06 -6.94260695e-07\n",
      "  2.54484079e-06  1.12151633e-08 -1.71883866e-06 -4.38400554e-07\n",
      "  1.76728185e-06  3.06459430e-06 -3.07028251e-07  2.36405281e-07\n",
      "  3.74870030e-07 -2.42380350e-06 -3.27928689e-06 -2.56152579e-06]\n",
      "[ 0.00000000e+00  0.00000000e+00  0.00000000e+00  0.00000000e+00\n",
      " -0.00000000e+00 -0.00000000e+00  0.00000000e+00  0.00000000e+00\n",
      "  0.00000000e+00  0.00000000e+00  0.00000000e+00  0.00000000e+00\n",
      "  0.00000000e+00  0.00000000e+00  0.00000000e+00  0.00000000e+00\n",
      "  0.00000000e+00  0.00000000e+00 -0.00000000e+00 -0.00000000e+00\n",
      " -0.00000000e+00  3.28675902e-05  0.00000000e+00 -4.55247445e-05\n",
      "  0.00000000e+00  0.00000000e+00 -0.00000000e+00 -0.00000000e+00\n",
      " -0.00000000e+00  0.00000000e+00 -5.53687244e-06 -1.77775473e-06\n",
      " -0.00000000e+00 -0.00000000e+00 -0.00000000e+00  0.00000000e+00\n",
      " -0.00000000e+00 -0.00000000e+00 -0.00000000e+00  0.00000000e+00\n",
      " -0.00000000e+00 -0.00000000e+00 -0.00000000e+00 -0.00000000e+00\n",
      " -0.00000000e+00  0.00000000e+00  6.53687608e-06 -8.77508964e-06\n",
      " -0.00000000e+00 -1.57566561e-06 -0.00000000e+00  0.00000000e+00\n",
      " -1.47729324e-05 -0.00000000e+00 -0.00000000e+00 -0.00000000e+00\n",
      "  2.32726318e-07 -4.26499780e-07  5.28300056e-08  2.81212661e-07\n",
      " -1.12407746e-07 -1.02969208e-06 -1.44646017e-06  4.70847153e-07\n",
      "  1.80062630e-06 -2.55528995e-08  9.43967577e-08 -7.92161846e-08\n",
      "  1.15678661e-07  2.65173604e-08 -9.60290427e-08 -0.00000000e+00\n",
      " -4.46635214e-06  1.04192554e-06  0.00000000e+00 -5.38711622e-07\n",
      "  3.97890149e-08 -0.00000000e+00 -2.19395181e-07  8.18868433e-07\n",
      "  4.38005876e-06  3.81640654e-08 -5.88964961e-08 -2.95867377e-08\n",
      "  6.50415623e-08  4.91698304e-09  5.98257024e-08 -2.65572352e-08\n",
      "  4.11891307e-08  3.39159697e-08 -2.47768861e-07 -0.00000000e+00\n",
      " -0.00000000e+00  0.00000000e+00  0.00000000e+00 -0.00000000e+00\n",
      " -0.00000000e+00 -0.00000000e+00  9.11920894e-07  0.00000000e+00\n",
      "  0.00000000e+00  2.67954812e-07 -7.53700140e-07 -1.58741089e-07\n",
      "  7.74192343e-09  8.70717384e-08  7.04256459e-07 -6.22323984e-07\n",
      "  3.72272991e-07  2.19452095e-06  8.35061328e-06  2.21879015e-08\n",
      " -9.19129081e-09 -5.70759841e-09 -2.76183610e-08 -3.24359501e-09\n",
      "  2.84192968e-08  2.42771748e-08  2.38300001e-08  1.06558419e-07\n",
      "  4.11402171e-07 -7.88360164e-08  1.70464771e-08 -4.43713229e-10\n",
      " -2.94809855e-07 -2.33303956e-06 -1.35222363e-08  1.62030175e-08\n",
      "  1.04550892e-09  1.71064572e-09 -4.18182069e-09 -3.10690150e-08\n",
      "  1.08342279e-08 -2.14389199e-09 -4.21520804e-09 -5.15731955e-10\n",
      "  1.27175794e-09 -1.43099036e-09  2.04238285e-09 -1.06149535e-09\n",
      " -6.06399406e-09 -3.58770707e-07  6.01036983e-08 -6.86305729e-09\n",
      " -4.09583113e-08 -1.30724509e-09  4.43955202e-09 -8.36167152e-09\n",
      "  5.54905072e-10 -1.48768350e-09  8.12966953e-09 -7.24231373e-11\n",
      " -2.68593700e-10 -5.52776483e-10  1.04922383e-09 -3.46934177e-10\n",
      " -7.31386587e-10  1.00088971e-09 -8.13477279e-13 -9.82098812e-10\n",
      " -8.04442867e-09 -1.12365118e-06  1.77209831e-07  5.19440767e-08\n",
      " -3.36413891e-07  4.04233162e-08 -1.15954962e-08 -5.40918339e-08\n",
      "  1.22662199e-08 -2.18282765e-08 -4.98589099e-09  4.44445451e-10\n",
      " -3.50821597e-09 -4.49907266e-09  4.07852859e-09 -2.72891996e-09\n",
      " -1.54161407e-09 -1.89436930e-09 -5.33202665e-10  5.32997160e-09\n",
      "  3.97952337e-08  9.18748643e-12 -3.67126150e-11 -1.63408625e-10\n",
      " -7.55719637e-11 -1.79050633e-10 -1.97579929e-10  5.28265641e-10\n",
      "  3.68798275e-11  3.81787136e-10  1.86561612e-09  1.26409148e-10\n",
      "  2.35796223e-10  3.96954723e-10 -4.61936428e-10 -1.02446089e-08\n",
      "  3.85604745e-07  4.59692486e-07  9.21324555e-07 -1.60227032e-06\n",
      "  2.36812897e-07 -1.27341018e-07 -3.39258799e-07  1.47922302e-07\n",
      " -1.84912794e-07 -2.89859741e-07  3.43106256e-08 -2.66411955e-08\n",
      " -3.56109877e-08  9.51187863e-09 -2.64986298e-08 -4.48991032e-08\n",
      "  1.00687311e-08 -1.25285671e-08 -3.57521364e-09  9.02808189e-08\n",
      " -1.74065923e-10 -4.20961101e-10 -1.16719138e-09 -1.70607130e-09\n",
      " -1.49884535e-09 -6.80525764e-10  1.33718379e-09 -5.92509893e-10\n",
      "  2.07942474e-09  1.75217114e-08 -3.76046688e-09 -4.18697763e-10\n",
      "  2.45631664e-09  2.02208057e-08  1.04194315e-07 -3.54980530e-11\n",
      "  7.53211809e-11 -4.36773349e-11 -1.39487552e-12 -5.47654617e-11\n",
      " -9.38584567e-12 -7.22154993e-11 -3.42452025e-11  9.83003783e-11\n",
      "  8.46812862e-10  1.46486654e-10  1.24357390e-10  5.61558541e-10\n",
      "  2.20966205e-09  8.05476531e-09 -2.74535869e-10  1.96358754e-10\n",
      "  4.68973931e-10  7.68824805e-10 -1.02615736e-09 -2.03901999e-08]\n",
      "175\n",
      "23\n",
      "Most Important Feature in Ridge: wheel-base compression-ratio engine-size length width with coefficient -6.338364808611101e-06\n",
      "Most Important Feature in Lasso: wheel-base^2 engine-size with coefficient -4.552474451388537e-05\n"
     ]
    }
   ],
   "source": [
    "ridge_coeffs = best_alpha_ridge.coef_\n",
    "lasso_coeffs = best_alpha_lasso.coef_\n",
    "\n",
    "print(ridge_coeffs)\n",
    "print(lasso_coeffs)\n",
    "\n",
    "most_important_ridge_index = np.argmax(np.abs(ridge_coeffs))\n",
    "most_important_lasso_index = np.argmax(np.abs(lasso_coeffs))\n",
    "\n",
    "print(most_important_ridge_index)\n",
    "print(most_important_lasso_index)\n",
    "\n",
    "print(f\"Most Important Feature in Ridge: {x_poly_frame.columns[most_important_ridge_index]} with coefficient {ridge_coeffs[most_important_ridge_index]}\")\n",
    "print(f\"Most Important Feature in Lasso: {x_poly_frame.columns[most_important_lasso_index]} with coefficient {lasso_coeffs[most_important_lasso_index]}\")\n"
   ]
  },
  {
   "cell_type": "code",
   "execution_count": null,
   "id": "a93b8eae",
   "metadata": {},
   "outputs": [],
   "source": []
  }
 ],
 "metadata": {
  "kernelspec": {
   "display_name": "Python 3 (ipykernel)",
   "language": "python",
   "name": "python3"
  },
  "language_info": {
   "codemirror_mode": {
    "name": "ipython",
    "version": 3
   },
   "file_extension": ".py",
   "mimetype": "text/x-python",
   "name": "python",
   "nbconvert_exporter": "python",
   "pygments_lexer": "ipython3",
   "version": "3.9.13"
  }
 },
 "nbformat": 4,
 "nbformat_minor": 5
}
